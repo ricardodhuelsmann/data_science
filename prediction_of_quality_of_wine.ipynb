{
  "cells": [
    {
      "cell_type": "markdown",
      "metadata": {
        "id": "view-in-github",
        "colab_type": "text"
      },
      "source": [
        "<a href=\"https://colab.research.google.com/github/ricardodhuelsmann/data_science/blob/main/prediction_of_quality_of_wine.ipynb\" target=\"_parent\"><img src=\"https://colab.research.google.com/assets/colab-badge.svg\" alt=\"Open In Colab\"/></a>"
      ]
    },
    {
      "cell_type": "markdown",
      "metadata": {
        "_cell_guid": "6876755d-3552-491d-b416-a012fbe221e4",
        "_uuid": "0b46910d15d98513ea81fb24e0f8ab28134c5f5f",
        "id": "L5t2OGbJI2Ah"
      },
      "source": [
        "#Description\n",
        "\n",
        "Dataset = https://www.kaggle.com/uciml/red-wine-quality-cortez-et-al-2009\n",
        "\n",
        "### Studies based on previous work from Vishal Kumar\n",
        "URL = https://www.kaggle.com/vishalyo990/prediction-of-quality-of-wine\n",
        "\n"
      ]
    },
    {
      "cell_type": "code",
      "execution_count": 34,
      "metadata": {
        "_cell_guid": "87c7b371-53b1-4d4d-bfbd-373d2b84b33a",
        "_uuid": "da5343fb3f6b3942909c94bf8e2add04fd3ff1a3",
        "collapsed": true,
        "id": "3XFUl_GCI2Aq"
      },
      "outputs": [],
      "source": [
        "#Import packages\n",
        "import pandas as pd\n",
        "import seaborn as sns\n",
        "import matplotlib.pyplot as plt\n",
        "from sklearn.ensemble import RandomForestClassifier\n",
        "from sklearn.svm import SVC\n",
        "from sklearn.linear_model import SGDClassifier\n",
        "from sklearn.metrics import confusion_matrix, classification_report\n",
        "from sklearn.preprocessing import StandardScaler, LabelEncoder\n",
        "from sklearn.model_selection import train_test_split, GridSearchCV\n",
        "%matplotlib inline\n",
        "#last line is a magic function in IPython, setting the backend of matplotlib to the 'inline' backend:"
      ]
    },
    {
      "cell_type": "code",
      "execution_count": 35,
      "metadata": {
        "_cell_guid": "800f9ff4-79bf-4785-9569-23e1d9b9b03b",
        "_uuid": "07c8409e4eccd80507d9846e8cc70ea42e58cbe6",
        "collapsed": true,
        "id": "AYN-0x6fI2As"
      },
      "outputs": [],
      "source": [
        "#Load dataset\n",
        "wine_data = pd.read_csv('winequality-red.csv')"
      ]
    },
    {
      "cell_type": "code",
      "execution_count": 36,
      "metadata": {
        "_cell_guid": "019cbcee-6cb2-478c-922b-ccebe4962769",
        "_uuid": "45ff42953e9082cd55612a4774408cc97a05fb11",
        "colab": {
          "base_uri": "https://localhost:8080/",
          "height": 424
        },
        "id": "o7OKTO2wI2At",
        "outputId": "9c11cf81-635b-41c0-90f3-de9e016a0e8a"
      },
      "outputs": [
        {
          "output_type": "execute_result",
          "data": {
            "text/html": [
              "\n",
              "  <div id=\"df-42ed2fd0-e6f3-4bc9-8d51-b61035b72258\">\n",
              "    <div class=\"colab-df-container\">\n",
              "      <div>\n",
              "<style scoped>\n",
              "    .dataframe tbody tr th:only-of-type {\n",
              "        vertical-align: middle;\n",
              "    }\n",
              "\n",
              "    .dataframe tbody tr th {\n",
              "        vertical-align: top;\n",
              "    }\n",
              "\n",
              "    .dataframe thead th {\n",
              "        text-align: right;\n",
              "    }\n",
              "</style>\n",
              "<table border=\"1\" class=\"dataframe\">\n",
              "  <thead>\n",
              "    <tr style=\"text-align: right;\">\n",
              "      <th></th>\n",
              "      <th>fixed acidity</th>\n",
              "      <th>volatile acidity</th>\n",
              "      <th>citric acid</th>\n",
              "      <th>residual sugar</th>\n",
              "      <th>chlorides</th>\n",
              "      <th>free sulfur dioxide</th>\n",
              "      <th>total sulfur dioxide</th>\n",
              "      <th>density</th>\n",
              "      <th>pH</th>\n",
              "      <th>sulphates</th>\n",
              "      <th>alcohol</th>\n",
              "      <th>quality</th>\n",
              "    </tr>\n",
              "  </thead>\n",
              "  <tbody>\n",
              "    <tr>\n",
              "      <th>0</th>\n",
              "      <td>7.4</td>\n",
              "      <td>0.70</td>\n",
              "      <td>0.00</td>\n",
              "      <td>1.9</td>\n",
              "      <td>0.076</td>\n",
              "      <td>11.0</td>\n",
              "      <td>34.0</td>\n",
              "      <td>0.9978</td>\n",
              "      <td>3.51</td>\n",
              "      <td>0.56</td>\n",
              "      <td>9.4</td>\n",
              "      <td>5</td>\n",
              "    </tr>\n",
              "    <tr>\n",
              "      <th>1</th>\n",
              "      <td>7.8</td>\n",
              "      <td>0.88</td>\n",
              "      <td>0.00</td>\n",
              "      <td>2.6</td>\n",
              "      <td>0.098</td>\n",
              "      <td>25.0</td>\n",
              "      <td>67.0</td>\n",
              "      <td>0.9968</td>\n",
              "      <td>3.20</td>\n",
              "      <td>0.68</td>\n",
              "      <td>9.8</td>\n",
              "      <td>5</td>\n",
              "    </tr>\n",
              "    <tr>\n",
              "      <th>2</th>\n",
              "      <td>7.8</td>\n",
              "      <td>0.76</td>\n",
              "      <td>0.04</td>\n",
              "      <td>2.3</td>\n",
              "      <td>0.092</td>\n",
              "      <td>15.0</td>\n",
              "      <td>54.0</td>\n",
              "      <td>0.9970</td>\n",
              "      <td>3.26</td>\n",
              "      <td>0.65</td>\n",
              "      <td>9.8</td>\n",
              "      <td>5</td>\n",
              "    </tr>\n",
              "    <tr>\n",
              "      <th>3</th>\n",
              "      <td>11.2</td>\n",
              "      <td>0.28</td>\n",
              "      <td>0.56</td>\n",
              "      <td>1.9</td>\n",
              "      <td>0.075</td>\n",
              "      <td>17.0</td>\n",
              "      <td>60.0</td>\n",
              "      <td>0.9980</td>\n",
              "      <td>3.16</td>\n",
              "      <td>0.58</td>\n",
              "      <td>9.8</td>\n",
              "      <td>6</td>\n",
              "    </tr>\n",
              "    <tr>\n",
              "      <th>4</th>\n",
              "      <td>7.4</td>\n",
              "      <td>0.70</td>\n",
              "      <td>0.00</td>\n",
              "      <td>1.9</td>\n",
              "      <td>0.076</td>\n",
              "      <td>11.0</td>\n",
              "      <td>34.0</td>\n",
              "      <td>0.9978</td>\n",
              "      <td>3.51</td>\n",
              "      <td>0.56</td>\n",
              "      <td>9.4</td>\n",
              "      <td>5</td>\n",
              "    </tr>\n",
              "    <tr>\n",
              "      <th>5</th>\n",
              "      <td>7.4</td>\n",
              "      <td>0.66</td>\n",
              "      <td>0.00</td>\n",
              "      <td>1.8</td>\n",
              "      <td>0.075</td>\n",
              "      <td>13.0</td>\n",
              "      <td>40.0</td>\n",
              "      <td>0.9978</td>\n",
              "      <td>3.51</td>\n",
              "      <td>0.56</td>\n",
              "      <td>9.4</td>\n",
              "      <td>5</td>\n",
              "    </tr>\n",
              "    <tr>\n",
              "      <th>6</th>\n",
              "      <td>7.9</td>\n",
              "      <td>0.60</td>\n",
              "      <td>0.06</td>\n",
              "      <td>1.6</td>\n",
              "      <td>0.069</td>\n",
              "      <td>15.0</td>\n",
              "      <td>59.0</td>\n",
              "      <td>0.9964</td>\n",
              "      <td>3.30</td>\n",
              "      <td>0.46</td>\n",
              "      <td>9.4</td>\n",
              "      <td>5</td>\n",
              "    </tr>\n",
              "    <tr>\n",
              "      <th>7</th>\n",
              "      <td>7.3</td>\n",
              "      <td>0.65</td>\n",
              "      <td>0.00</td>\n",
              "      <td>1.2</td>\n",
              "      <td>0.065</td>\n",
              "      <td>15.0</td>\n",
              "      <td>21.0</td>\n",
              "      <td>0.9946</td>\n",
              "      <td>3.39</td>\n",
              "      <td>0.47</td>\n",
              "      <td>10.0</td>\n",
              "      <td>7</td>\n",
              "    </tr>\n",
              "    <tr>\n",
              "      <th>8</th>\n",
              "      <td>7.8</td>\n",
              "      <td>0.58</td>\n",
              "      <td>0.02</td>\n",
              "      <td>2.0</td>\n",
              "      <td>0.073</td>\n",
              "      <td>9.0</td>\n",
              "      <td>18.0</td>\n",
              "      <td>0.9968</td>\n",
              "      <td>3.36</td>\n",
              "      <td>0.57</td>\n",
              "      <td>9.5</td>\n",
              "      <td>7</td>\n",
              "    </tr>\n",
              "    <tr>\n",
              "      <th>9</th>\n",
              "      <td>7.5</td>\n",
              "      <td>0.50</td>\n",
              "      <td>0.36</td>\n",
              "      <td>6.1</td>\n",
              "      <td>0.071</td>\n",
              "      <td>17.0</td>\n",
              "      <td>102.0</td>\n",
              "      <td>0.9978</td>\n",
              "      <td>3.35</td>\n",
              "      <td>0.80</td>\n",
              "      <td>10.5</td>\n",
              "      <td>5</td>\n",
              "    </tr>\n",
              "  </tbody>\n",
              "</table>\n",
              "</div>\n",
              "      <button class=\"colab-df-convert\" onclick=\"convertToInteractive('df-42ed2fd0-e6f3-4bc9-8d51-b61035b72258')\"\n",
              "              title=\"Convert this dataframe to an interactive table.\"\n",
              "              style=\"display:none;\">\n",
              "        \n",
              "  <svg xmlns=\"http://www.w3.org/2000/svg\" height=\"24px\"viewBox=\"0 0 24 24\"\n",
              "       width=\"24px\">\n",
              "    <path d=\"M0 0h24v24H0V0z\" fill=\"none\"/>\n",
              "    <path d=\"M18.56 5.44l.94 2.06.94-2.06 2.06-.94-2.06-.94-.94-2.06-.94 2.06-2.06.94zm-11 1L8.5 8.5l.94-2.06 2.06-.94-2.06-.94L8.5 2.5l-.94 2.06-2.06.94zm10 10l.94 2.06.94-2.06 2.06-.94-2.06-.94-.94-2.06-.94 2.06-2.06.94z\"/><path d=\"M17.41 7.96l-1.37-1.37c-.4-.4-.92-.59-1.43-.59-.52 0-1.04.2-1.43.59L10.3 9.45l-7.72 7.72c-.78.78-.78 2.05 0 2.83L4 21.41c.39.39.9.59 1.41.59.51 0 1.02-.2 1.41-.59l7.78-7.78 2.81-2.81c.8-.78.8-2.07 0-2.86zM5.41 20L4 18.59l7.72-7.72 1.47 1.35L5.41 20z\"/>\n",
              "  </svg>\n",
              "      </button>\n",
              "      \n",
              "  <style>\n",
              "    .colab-df-container {\n",
              "      display:flex;\n",
              "      flex-wrap:wrap;\n",
              "      gap: 12px;\n",
              "    }\n",
              "\n",
              "    .colab-df-convert {\n",
              "      background-color: #E8F0FE;\n",
              "      border: none;\n",
              "      border-radius: 50%;\n",
              "      cursor: pointer;\n",
              "      display: none;\n",
              "      fill: #1967D2;\n",
              "      height: 32px;\n",
              "      padding: 0 0 0 0;\n",
              "      width: 32px;\n",
              "    }\n",
              "\n",
              "    .colab-df-convert:hover {\n",
              "      background-color: #E2EBFA;\n",
              "      box-shadow: 0px 1px 2px rgba(60, 64, 67, 0.3), 0px 1px 3px 1px rgba(60, 64, 67, 0.15);\n",
              "      fill: #174EA6;\n",
              "    }\n",
              "\n",
              "    [theme=dark] .colab-df-convert {\n",
              "      background-color: #3B4455;\n",
              "      fill: #D2E3FC;\n",
              "    }\n",
              "\n",
              "    [theme=dark] .colab-df-convert:hover {\n",
              "      background-color: #434B5C;\n",
              "      box-shadow: 0px 1px 3px 1px rgba(0, 0, 0, 0.15);\n",
              "      filter: drop-shadow(0px 1px 2px rgba(0, 0, 0, 0.3));\n",
              "      fill: #FFFFFF;\n",
              "    }\n",
              "  </style>\n",
              "\n",
              "      <script>\n",
              "        const buttonEl =\n",
              "          document.querySelector('#df-42ed2fd0-e6f3-4bc9-8d51-b61035b72258 button.colab-df-convert');\n",
              "        buttonEl.style.display =\n",
              "          google.colab.kernel.accessAllowed ? 'block' : 'none';\n",
              "\n",
              "        async function convertToInteractive(key) {\n",
              "          const element = document.querySelector('#df-42ed2fd0-e6f3-4bc9-8d51-b61035b72258');\n",
              "          const dataTable =\n",
              "            await google.colab.kernel.invokeFunction('convertToInteractive',\n",
              "                                                     [key], {});\n",
              "          if (!dataTable) return;\n",
              "\n",
              "          const docLinkHtml = 'Like what you see? Visit the ' +\n",
              "            '<a target=\"_blank\" href=https://colab.research.google.com/notebooks/data_table.ipynb>data table notebook</a>'\n",
              "            + ' to learn more about interactive tables.';\n",
              "          element.innerHTML = '';\n",
              "          dataTable['output_type'] = 'display_data';\n",
              "          await google.colab.output.renderOutput(dataTable, element);\n",
              "          const docLink = document.createElement('div');\n",
              "          docLink.innerHTML = docLinkHtml;\n",
              "          element.appendChild(docLink);\n",
              "        }\n",
              "      </script>\n",
              "    </div>\n",
              "  </div>\n",
              "  "
            ],
            "text/plain": [
              "   fixed acidity  volatile acidity  citric acid  ...  sulphates  alcohol  quality\n",
              "0            7.4              0.70         0.00  ...       0.56      9.4        5\n",
              "1            7.8              0.88         0.00  ...       0.68      9.8        5\n",
              "2            7.8              0.76         0.04  ...       0.65      9.8        5\n",
              "3           11.2              0.28         0.56  ...       0.58      9.8        6\n",
              "4            7.4              0.70         0.00  ...       0.56      9.4        5\n",
              "5            7.4              0.66         0.00  ...       0.56      9.4        5\n",
              "6            7.9              0.60         0.06  ...       0.46      9.4        5\n",
              "7            7.3              0.65         0.00  ...       0.47     10.0        7\n",
              "8            7.8              0.58         0.02  ...       0.57      9.5        7\n",
              "9            7.5              0.50         0.36  ...       0.80     10.5        5\n",
              "\n",
              "[10 rows x 12 columns]"
            ]
          },
          "metadata": {},
          "execution_count": 36
        }
      ],
      "source": [
        "#Check data\n",
        "wine_data.head(10)"
      ]
    },
    {
      "cell_type": "code",
      "execution_count": 37,
      "metadata": {
        "_cell_guid": "704f4830-5804-436d-9b78-6ca00f5ae510",
        "_uuid": "af141503385967f92d409c5e111e2724b4c9636f",
        "colab": {
          "base_uri": "https://localhost:8080/"
        },
        "id": "qCwEdx-QI2Av",
        "outputId": "7e015775-c6a6-47e2-c056-aa6f3a48d1b5"
      },
      "outputs": [
        {
          "output_type": "stream",
          "name": "stdout",
          "text": [
            "<class 'pandas.core.frame.DataFrame'>\n",
            "RangeIndex: 1599 entries, 0 to 1598\n",
            "Data columns (total 12 columns):\n",
            " #   Column                Non-Null Count  Dtype  \n",
            "---  ------                --------------  -----  \n",
            " 0   fixed acidity         1599 non-null   float64\n",
            " 1   volatile acidity      1599 non-null   float64\n",
            " 2   citric acid           1599 non-null   float64\n",
            " 3   residual sugar        1599 non-null   float64\n",
            " 4   chlorides             1599 non-null   float64\n",
            " 5   free sulfur dioxide   1599 non-null   float64\n",
            " 6   total sulfur dioxide  1599 non-null   float64\n",
            " 7   density               1599 non-null   float64\n",
            " 8   pH                    1599 non-null   float64\n",
            " 9   sulphates             1599 non-null   float64\n",
            " 10  alcohol               1599 non-null   float64\n",
            " 11  quality               1599 non-null   int64  \n",
            "dtypes: float64(11), int64(1)\n",
            "memory usage: 150.0 KB\n"
          ]
        }
      ],
      "source": [
        "#Obtain information about the data columns\n",
        "wine_data.info()"
      ]
    },
    {
      "cell_type": "code",
      "source": [
        "#Verify min and max values for each collumn\n",
        "wine_data.describe()\n",
        "#With this information, for example, it is possible to learn that wine quality values range from 3 to 8."
      ],
      "metadata": {
        "colab": {
          "base_uri": "https://localhost:8080/",
          "height": 399
        },
        "id": "fMJtbz3cRBEb",
        "outputId": "b96582cb-b3d6-46bc-db25-ff49521a2e5c"
      },
      "execution_count": 38,
      "outputs": [
        {
          "output_type": "execute_result",
          "data": {
            "text/html": [
              "\n",
              "  <div id=\"df-490d97bc-503b-403d-b05f-76178258b82d\">\n",
              "    <div class=\"colab-df-container\">\n",
              "      <div>\n",
              "<style scoped>\n",
              "    .dataframe tbody tr th:only-of-type {\n",
              "        vertical-align: middle;\n",
              "    }\n",
              "\n",
              "    .dataframe tbody tr th {\n",
              "        vertical-align: top;\n",
              "    }\n",
              "\n",
              "    .dataframe thead th {\n",
              "        text-align: right;\n",
              "    }\n",
              "</style>\n",
              "<table border=\"1\" class=\"dataframe\">\n",
              "  <thead>\n",
              "    <tr style=\"text-align: right;\">\n",
              "      <th></th>\n",
              "      <th>fixed acidity</th>\n",
              "      <th>volatile acidity</th>\n",
              "      <th>citric acid</th>\n",
              "      <th>residual sugar</th>\n",
              "      <th>chlorides</th>\n",
              "      <th>free sulfur dioxide</th>\n",
              "      <th>total sulfur dioxide</th>\n",
              "      <th>density</th>\n",
              "      <th>pH</th>\n",
              "      <th>sulphates</th>\n",
              "      <th>alcohol</th>\n",
              "      <th>quality</th>\n",
              "    </tr>\n",
              "  </thead>\n",
              "  <tbody>\n",
              "    <tr>\n",
              "      <th>count</th>\n",
              "      <td>1599.000000</td>\n",
              "      <td>1599.000000</td>\n",
              "      <td>1599.000000</td>\n",
              "      <td>1599.000000</td>\n",
              "      <td>1599.000000</td>\n",
              "      <td>1599.000000</td>\n",
              "      <td>1599.000000</td>\n",
              "      <td>1599.000000</td>\n",
              "      <td>1599.000000</td>\n",
              "      <td>1599.000000</td>\n",
              "      <td>1599.000000</td>\n",
              "      <td>1599.000000</td>\n",
              "    </tr>\n",
              "    <tr>\n",
              "      <th>mean</th>\n",
              "      <td>8.319637</td>\n",
              "      <td>0.527821</td>\n",
              "      <td>0.270976</td>\n",
              "      <td>2.538806</td>\n",
              "      <td>0.087467</td>\n",
              "      <td>15.874922</td>\n",
              "      <td>46.467792</td>\n",
              "      <td>0.996747</td>\n",
              "      <td>3.311113</td>\n",
              "      <td>0.658149</td>\n",
              "      <td>10.422983</td>\n",
              "      <td>5.636023</td>\n",
              "    </tr>\n",
              "    <tr>\n",
              "      <th>std</th>\n",
              "      <td>1.741096</td>\n",
              "      <td>0.179060</td>\n",
              "      <td>0.194801</td>\n",
              "      <td>1.409928</td>\n",
              "      <td>0.047065</td>\n",
              "      <td>10.460157</td>\n",
              "      <td>32.895324</td>\n",
              "      <td>0.001887</td>\n",
              "      <td>0.154386</td>\n",
              "      <td>0.169507</td>\n",
              "      <td>1.065668</td>\n",
              "      <td>0.807569</td>\n",
              "    </tr>\n",
              "    <tr>\n",
              "      <th>min</th>\n",
              "      <td>4.600000</td>\n",
              "      <td>0.120000</td>\n",
              "      <td>0.000000</td>\n",
              "      <td>0.900000</td>\n",
              "      <td>0.012000</td>\n",
              "      <td>1.000000</td>\n",
              "      <td>6.000000</td>\n",
              "      <td>0.990070</td>\n",
              "      <td>2.740000</td>\n",
              "      <td>0.330000</td>\n",
              "      <td>8.400000</td>\n",
              "      <td>3.000000</td>\n",
              "    </tr>\n",
              "    <tr>\n",
              "      <th>25%</th>\n",
              "      <td>7.100000</td>\n",
              "      <td>0.390000</td>\n",
              "      <td>0.090000</td>\n",
              "      <td>1.900000</td>\n",
              "      <td>0.070000</td>\n",
              "      <td>7.000000</td>\n",
              "      <td>22.000000</td>\n",
              "      <td>0.995600</td>\n",
              "      <td>3.210000</td>\n",
              "      <td>0.550000</td>\n",
              "      <td>9.500000</td>\n",
              "      <td>5.000000</td>\n",
              "    </tr>\n",
              "    <tr>\n",
              "      <th>50%</th>\n",
              "      <td>7.900000</td>\n",
              "      <td>0.520000</td>\n",
              "      <td>0.260000</td>\n",
              "      <td>2.200000</td>\n",
              "      <td>0.079000</td>\n",
              "      <td>14.000000</td>\n",
              "      <td>38.000000</td>\n",
              "      <td>0.996750</td>\n",
              "      <td>3.310000</td>\n",
              "      <td>0.620000</td>\n",
              "      <td>10.200000</td>\n",
              "      <td>6.000000</td>\n",
              "    </tr>\n",
              "    <tr>\n",
              "      <th>75%</th>\n",
              "      <td>9.200000</td>\n",
              "      <td>0.640000</td>\n",
              "      <td>0.420000</td>\n",
              "      <td>2.600000</td>\n",
              "      <td>0.090000</td>\n",
              "      <td>21.000000</td>\n",
              "      <td>62.000000</td>\n",
              "      <td>0.997835</td>\n",
              "      <td>3.400000</td>\n",
              "      <td>0.730000</td>\n",
              "      <td>11.100000</td>\n",
              "      <td>6.000000</td>\n",
              "    </tr>\n",
              "    <tr>\n",
              "      <th>max</th>\n",
              "      <td>15.900000</td>\n",
              "      <td>1.580000</td>\n",
              "      <td>1.000000</td>\n",
              "      <td>15.500000</td>\n",
              "      <td>0.611000</td>\n",
              "      <td>72.000000</td>\n",
              "      <td>289.000000</td>\n",
              "      <td>1.003690</td>\n",
              "      <td>4.010000</td>\n",
              "      <td>2.000000</td>\n",
              "      <td>14.900000</td>\n",
              "      <td>8.000000</td>\n",
              "    </tr>\n",
              "  </tbody>\n",
              "</table>\n",
              "</div>\n",
              "      <button class=\"colab-df-convert\" onclick=\"convertToInteractive('df-490d97bc-503b-403d-b05f-76178258b82d')\"\n",
              "              title=\"Convert this dataframe to an interactive table.\"\n",
              "              style=\"display:none;\">\n",
              "        \n",
              "  <svg xmlns=\"http://www.w3.org/2000/svg\" height=\"24px\"viewBox=\"0 0 24 24\"\n",
              "       width=\"24px\">\n",
              "    <path d=\"M0 0h24v24H0V0z\" fill=\"none\"/>\n",
              "    <path d=\"M18.56 5.44l.94 2.06.94-2.06 2.06-.94-2.06-.94-.94-2.06-.94 2.06-2.06.94zm-11 1L8.5 8.5l.94-2.06 2.06-.94-2.06-.94L8.5 2.5l-.94 2.06-2.06.94zm10 10l.94 2.06.94-2.06 2.06-.94-2.06-.94-.94-2.06-.94 2.06-2.06.94z\"/><path d=\"M17.41 7.96l-1.37-1.37c-.4-.4-.92-.59-1.43-.59-.52 0-1.04.2-1.43.59L10.3 9.45l-7.72 7.72c-.78.78-.78 2.05 0 2.83L4 21.41c.39.39.9.59 1.41.59.51 0 1.02-.2 1.41-.59l7.78-7.78 2.81-2.81c.8-.78.8-2.07 0-2.86zM5.41 20L4 18.59l7.72-7.72 1.47 1.35L5.41 20z\"/>\n",
              "  </svg>\n",
              "      </button>\n",
              "      \n",
              "  <style>\n",
              "    .colab-df-container {\n",
              "      display:flex;\n",
              "      flex-wrap:wrap;\n",
              "      gap: 12px;\n",
              "    }\n",
              "\n",
              "    .colab-df-convert {\n",
              "      background-color: #E8F0FE;\n",
              "      border: none;\n",
              "      border-radius: 50%;\n",
              "      cursor: pointer;\n",
              "      display: none;\n",
              "      fill: #1967D2;\n",
              "      height: 32px;\n",
              "      padding: 0 0 0 0;\n",
              "      width: 32px;\n",
              "    }\n",
              "\n",
              "    .colab-df-convert:hover {\n",
              "      background-color: #E2EBFA;\n",
              "      box-shadow: 0px 1px 2px rgba(60, 64, 67, 0.3), 0px 1px 3px 1px rgba(60, 64, 67, 0.15);\n",
              "      fill: #174EA6;\n",
              "    }\n",
              "\n",
              "    [theme=dark] .colab-df-convert {\n",
              "      background-color: #3B4455;\n",
              "      fill: #D2E3FC;\n",
              "    }\n",
              "\n",
              "    [theme=dark] .colab-df-convert:hover {\n",
              "      background-color: #434B5C;\n",
              "      box-shadow: 0px 1px 3px 1px rgba(0, 0, 0, 0.15);\n",
              "      filter: drop-shadow(0px 1px 2px rgba(0, 0, 0, 0.3));\n",
              "      fill: #FFFFFF;\n",
              "    }\n",
              "  </style>\n",
              "\n",
              "      <script>\n",
              "        const buttonEl =\n",
              "          document.querySelector('#df-490d97bc-503b-403d-b05f-76178258b82d button.colab-df-convert');\n",
              "        buttonEl.style.display =\n",
              "          google.colab.kernel.accessAllowed ? 'block' : 'none';\n",
              "\n",
              "        async function convertToInteractive(key) {\n",
              "          const element = document.querySelector('#df-490d97bc-503b-403d-b05f-76178258b82d');\n",
              "          const dataTable =\n",
              "            await google.colab.kernel.invokeFunction('convertToInteractive',\n",
              "                                                     [key], {});\n",
              "          if (!dataTable) return;\n",
              "\n",
              "          const docLinkHtml = 'Like what you see? Visit the ' +\n",
              "            '<a target=\"_blank\" href=https://colab.research.google.com/notebooks/data_table.ipynb>data table notebook</a>'\n",
              "            + ' to learn more about interactive tables.';\n",
              "          element.innerHTML = '';\n",
              "          dataTable['output_type'] = 'display_data';\n",
              "          await google.colab.output.renderOutput(dataTable, element);\n",
              "          const docLink = document.createElement('div');\n",
              "          docLink.innerHTML = docLinkHtml;\n",
              "          element.appendChild(docLink);\n",
              "        }\n",
              "      </script>\n",
              "    </div>\n",
              "  </div>\n",
              "  "
            ],
            "text/plain": [
              "       fixed acidity  volatile acidity  ...      alcohol      quality\n",
              "count    1599.000000       1599.000000  ...  1599.000000  1599.000000\n",
              "mean        8.319637          0.527821  ...    10.422983     5.636023\n",
              "std         1.741096          0.179060  ...     1.065668     0.807569\n",
              "min         4.600000          0.120000  ...     8.400000     3.000000\n",
              "25%         7.100000          0.390000  ...     9.500000     5.000000\n",
              "50%         7.900000          0.520000  ...    10.200000     6.000000\n",
              "75%         9.200000          0.640000  ...    11.100000     6.000000\n",
              "max        15.900000          1.580000  ...    14.900000     8.000000\n",
              "\n",
              "[8 rows x 12 columns]"
            ]
          },
          "metadata": {},
          "execution_count": 38
        }
      ]
    },
    {
      "cell_type": "markdown",
      "metadata": {
        "_cell_guid": "12b9e3c1-006d-4b1d-b01d-02be5a594bbb",
        "_uuid": "e9ad3ce0e67ea7a5178222164d784a974846bc54",
        "id": "jfL_gHlyI2Aw"
      },
      "source": [
        "## First of all, it is interesting to see how data are distributed in the dataset"
      ]
    },
    {
      "cell_type": "code",
      "source": [
        "#Define some figure properties\n",
        "sns.set_theme(style=\"whitegrid\", palette=\"cividis\", font_scale=1.3)"
      ],
      "metadata": {
        "id": "vL3Ek-PXMDjF"
      },
      "execution_count": 39,
      "outputs": []
    },
    {
      "cell_type": "code",
      "execution_count": 40,
      "metadata": {
        "_cell_guid": "f6a9d2eb-e03c-4c8b-8d7f-c0cb735d9ce9",
        "_uuid": "255e8fd04c90eae23164df043ebf16550ecff8fe",
        "colab": {
          "base_uri": "https://localhost:8080/",
          "height": 362
        },
        "id": "OMz4eEqkI2Ax",
        "outputId": "a637095a-7d87-4d18-8018-69b22505352b"
      },
      "outputs": [
        {
          "output_type": "execute_result",
          "data": {
            "text/plain": [
              "<matplotlib.axes._subplots.AxesSubplot at 0x7f13174df510>"
            ]
          },
          "metadata": {},
          "execution_count": 40
        },
        {
          "output_type": "display_data",
          "data": {
            "image/png": "[encoded data removed]",
            "text/plain": [
              "<Figure size 864x360 with 1 Axes>"
            ]
          },
          "metadata": {}
        }
      ],
      "source": [
        "#Evaluate the relation between fixed acidity and quality\n",
        "figure_1 = plt.figure(figsize = (12,5))\n",
        "sns.barplot(x = 'quality', y = 'fixed acidity', data = wine_data)"
      ]
    },
    {
      "cell_type": "code",
      "source": [
        "#As cen be seen, fixed acidity does not have a proper relation with wine quality. Now, check another parameter, the volatile acidity\n",
        "figure_2 = plt.figure(figsize = (12,5))\n",
        "sns.barplot(x = 'quality', y = 'volatile acidity', data = wine_data)"
      ],
      "metadata": {
        "colab": {
          "base_uri": "https://localhost:8080/",
          "height": 362
        },
        "id": "F1Tu0a11Lmuh",
        "outputId": "33d87a03-5786-440a-9479-f5512485c297"
      },
      "execution_count": 41,
      "outputs": [
        {
          "output_type": "execute_result",
          "data": {
            "text/plain": [
              "<matplotlib.axes._subplots.AxesSubplot at 0x7f1317434b90>"
            ]
          },
          "metadata": {},
          "execution_count": 41
        },
        {
          "output_type": "display_data",
          "data": {
            "image/png": "[encoded data removed]",
            "text/plain": [
              "<Figure size 864x360 with 1 Axes>"
            ]
          },
          "metadata": {}
        }
      ]
    },
    {
      "cell_type": "code",
      "source": [
        "#Volatile acidity seens to affect directly the wine quality. Let's study other parameters\n",
        "figure, axis = plt.subplots(4, 2, figsize=(20, 20))\n",
        "\n",
        "sns.barplot(ax=axis[0,0], x = 'quality', y = 'citric acid', data = wine_data)\n",
        "sns.barplot(ax=axis[0,1], x = 'quality', y = 'residual sugar', data = wine_data)\n",
        "sns.barplot(ax=axis[1,0], x = 'quality', y = 'chlorides', data = wine_data)\n",
        "sns.barplot(ax=axis[1,1], x = 'quality', y = 'free sulfur dioxide', data = wine_data)\n",
        "sns.barplot(ax=axis[2,0], x = 'quality', y = 'total sulfur dioxide', data = wine_data)\n",
        "sns.barplot(ax=axis[2,1], x = 'quality', y = 'sulphates', data = wine_data)\n",
        "sns.barplot(ax=axis[3,0], x = 'quality', y = 'pH', data = wine_data)\n",
        "sns.barplot(ax=axis[3,1], x = 'quality', y = 'alcohol', data = wine_data)\n",
        "\n",
        "# Combine all the plots and display\n",
        "plt.show()"
      ],
      "metadata": {
        "colab": {
          "base_uri": "https://localhost:8080/",
          "height": 1000
        },
        "id": "exLsR3ouOQAA",
        "outputId": "fa8aa3e4-f378-45f7-b162-aba8cab387a8"
      },
      "execution_count": 42,
      "outputs": [
        {
          "output_type": "display_data",
          "data": {
            "image/png": "[encoded data removed]",
            "text/plain": [
              "<Figure size 1440x1440 with 8 Axes>"
            ]
          },
          "metadata": {}
        }
      ]
    },
    {
      "cell_type": "code",
      "source": [
        "figure, axis = plt.subplots(4, 2, figsize=(20, 20))\n",
        "\n",
        "sns.boxplot(ax=axis[0,0], x = 'quality', y = 'citric acid', data = wine_data)\n",
        "sns.boxplot(ax=axis[0,1], x = 'quality', y = 'residual sugar', data = wine_data)\n",
        "sns.boxplot(ax=axis[1,0], x = 'quality', y = 'chlorides', data = wine_data)\n",
        "sns.boxplot(ax=axis[1,1], x = 'quality', y = 'free sulfur dioxide', data = wine_data)\n",
        "sns.boxplot(ax=axis[2,0], x = 'quality', y = 'total sulfur dioxide', data = wine_data)\n",
        "sns.boxplot(ax=axis[2,1], x = 'quality', y = 'sulphates', data = wine_data)\n",
        "sns.boxplot(ax=axis[3,0], x = 'quality', y = 'pH', data = wine_data)\n",
        "sns.boxplot(ax=axis[3,1], x = 'quality', y = 'alcohol', data = wine_data)\n",
        "\n",
        "# Combine all the plots and display\n",
        "plt.show()"
      ],
      "metadata": {
        "colab": {
          "base_uri": "https://localhost:8080/",
          "height": 1000
        },
        "id": "pEgiSCeKWQDi",
        "outputId": "da380c8d-7d4a-4445-9009-ad2fef4d3c65"
      },
      "execution_count": 43,
      "outputs": [
        {
          "output_type": "display_data",
          "data": {
            "image/png": "[encoded data removed]",
            "text/plain": [
              "<Figure size 1440x1440 with 8 Axes>"
            ]
          },
          "metadata": {}
        }
      ]
    },
    {
      "cell_type": "markdown",
      "metadata": {
        "_cell_guid": "9838ca3d-4b89-4503-9d7e-247cc3a9730b",
        "_uuid": "974be3136a2f13bf26a88b26cbddbf73f5cafda9",
        "id": "MCN3sqaiI2A_"
      },
      "source": [
        "To perform Machine Learning, it is necessary to process the data"
      ]
    },
    {
      "cell_type": "code",
      "execution_count": 44,
      "metadata": {
        "_cell_guid": "33e1c5c0-a65a-4918-8d94-db8e4c521d50",
        "_uuid": "3f082340d1b157391052f0fa20a44aa0105ce987",
        "collapsed": true,
        "id": "w5FwGzbYI2A_"
      },
      "outputs": [],
      "source": [
        "#Making a quality-based rating, dividing wine as good or bad.\n",
        "\n",
        "bins = (2, 6, 8)\n",
        "group_names = ['bad', 'good']\n",
        "wine_data['quality'] = pd.cut(wine_data['quality'], bins = bins, labels = group_names)"
      ]
    },
    {
      "cell_type": "code",
      "source": [
        "wine_data.head(5)"
      ],
      "metadata": {
        "colab": {
          "base_uri": "https://localhost:8080/",
          "height": 267
        },
        "id": "atXQFpzyX5UX",
        "outputId": "f2c256a5-d06f-4272-e748-cf4499bbdab5"
      },
      "execution_count": 45,
      "outputs": [
        {
          "output_type": "execute_result",
          "data": {
            "text/html": [
              "\n",
              "  <div id=\"df-7d510c15-5f53-4a18-af18-ff2344432dc9\">\n",
              "    <div class=\"colab-df-container\">\n",
              "      <div>\n",
              "<style scoped>\n",
              "    .dataframe tbody tr th:only-of-type {\n",
              "        vertical-align: middle;\n",
              "    }\n",
              "\n",
              "    .dataframe tbody tr th {\n",
              "        vertical-align: top;\n",
              "    }\n",
              "\n",
              "    .dataframe thead th {\n",
              "        text-align: right;\n",
              "    }\n",
              "</style>\n",
              "<table border=\"1\" class=\"dataframe\">\n",
              "  <thead>\n",
              "    <tr style=\"text-align: right;\">\n",
              "      <th></th>\n",
              "      <th>fixed acidity</th>\n",
              "      <th>volatile acidity</th>\n",
              "      <th>citric acid</th>\n",
              "      <th>residual sugar</th>\n",
              "      <th>chlorides</th>\n",
              "      <th>free sulfur dioxide</th>\n",
              "      <th>total sulfur dioxide</th>\n",
              "      <th>density</th>\n",
              "      <th>pH</th>\n",
              "      <th>sulphates</th>\n",
              "      <th>alcohol</th>\n",
              "      <th>quality</th>\n",
              "    </tr>\n",
              "  </thead>\n",
              "  <tbody>\n",
              "    <tr>\n",
              "      <th>0</th>\n",
              "      <td>7.4</td>\n",
              "      <td>0.70</td>\n",
              "      <td>0.00</td>\n",
              "      <td>1.9</td>\n",
              "      <td>0.076</td>\n",
              "      <td>11.0</td>\n",
              "      <td>34.0</td>\n",
              "      <td>0.9978</td>\n",
              "      <td>3.51</td>\n",
              "      <td>0.56</td>\n",
              "      <td>9.4</td>\n",
              "      <td>bad</td>\n",
              "    </tr>\n",
              "    <tr>\n",
              "      <th>1</th>\n",
              "      <td>7.8</td>\n",
              "      <td>0.88</td>\n",
              "      <td>0.00</td>\n",
              "      <td>2.6</td>\n",
              "      <td>0.098</td>\n",
              "      <td>25.0</td>\n",
              "      <td>67.0</td>\n",
              "      <td>0.9968</td>\n",
              "      <td>3.20</td>\n",
              "      <td>0.68</td>\n",
              "      <td>9.8</td>\n",
              "      <td>bad</td>\n",
              "    </tr>\n",
              "    <tr>\n",
              "      <th>2</th>\n",
              "      <td>7.8</td>\n",
              "      <td>0.76</td>\n",
              "      <td>0.04</td>\n",
              "      <td>2.3</td>\n",
              "      <td>0.092</td>\n",
              "      <td>15.0</td>\n",
              "      <td>54.0</td>\n",
              "      <td>0.9970</td>\n",
              "      <td>3.26</td>\n",
              "      <td>0.65</td>\n",
              "      <td>9.8</td>\n",
              "      <td>bad</td>\n",
              "    </tr>\n",
              "    <tr>\n",
              "      <th>3</th>\n",
              "      <td>11.2</td>\n",
              "      <td>0.28</td>\n",
              "      <td>0.56</td>\n",
              "      <td>1.9</td>\n",
              "      <td>0.075</td>\n",
              "      <td>17.0</td>\n",
              "      <td>60.0</td>\n",
              "      <td>0.9980</td>\n",
              "      <td>3.16</td>\n",
              "      <td>0.58</td>\n",
              "      <td>9.8</td>\n",
              "      <td>bad</td>\n",
              "    </tr>\n",
              "    <tr>\n",
              "      <th>4</th>\n",
              "      <td>7.4</td>\n",
              "      <td>0.70</td>\n",
              "      <td>0.00</td>\n",
              "      <td>1.9</td>\n",
              "      <td>0.076</td>\n",
              "      <td>11.0</td>\n",
              "      <td>34.0</td>\n",
              "      <td>0.9978</td>\n",
              "      <td>3.51</td>\n",
              "      <td>0.56</td>\n",
              "      <td>9.4</td>\n",
              "      <td>bad</td>\n",
              "    </tr>\n",
              "  </tbody>\n",
              "</table>\n",
              "</div>\n",
              "      <button class=\"colab-df-convert\" onclick=\"convertToInteractive('df-7d510c15-5f53-4a18-af18-ff2344432dc9')\"\n",
              "              title=\"Convert this dataframe to an interactive table.\"\n",
              "              style=\"display:none;\">\n",
              "        \n",
              "  <svg xmlns=\"http://www.w3.org/2000/svg\" height=\"24px\"viewBox=\"0 0 24 24\"\n",
              "       width=\"24px\">\n",
              "    <path d=\"M0 0h24v24H0V0z\" fill=\"none\"/>\n",
              "    <path d=\"M18.56 5.44l.94 2.06.94-2.06 2.06-.94-2.06-.94-.94-2.06-.94 2.06-2.06.94zm-11 1L8.5 8.5l.94-2.06 2.06-.94-2.06-.94L8.5 2.5l-.94 2.06-2.06.94zm10 10l.94 2.06.94-2.06 2.06-.94-2.06-.94-.94-2.06-.94 2.06-2.06.94z\"/><path d=\"M17.41 7.96l-1.37-1.37c-.4-.4-.92-.59-1.43-.59-.52 0-1.04.2-1.43.59L10.3 9.45l-7.72 7.72c-.78.78-.78 2.05 0 2.83L4 21.41c.39.39.9.59 1.41.59.51 0 1.02-.2 1.41-.59l7.78-7.78 2.81-2.81c.8-.78.8-2.07 0-2.86zM5.41 20L4 18.59l7.72-7.72 1.47 1.35L5.41 20z\"/>\n",
              "  </svg>\n",
              "      </button>\n",
              "      \n",
              "  <style>\n",
              "    .colab-df-container {\n",
              "      display:flex;\n",
              "      flex-wrap:wrap;\n",
              "      gap: 12px;\n",
              "    }\n",
              "\n",
              "    .colab-df-convert {\n",
              "      background-color: #E8F0FE;\n",
              "      border: none;\n",
              "      border-radius: 50%;\n",
              "      cursor: pointer;\n",
              "      display: none;\n",
              "      fill: #1967D2;\n",
              "      height: 32px;\n",
              "      padding: 0 0 0 0;\n",
              "      width: 32px;\n",
              "    }\n",
              "\n",
              "    .colab-df-convert:hover {\n",
              "      background-color: #E2EBFA;\n",
              "      box-shadow: 0px 1px 2px rgba(60, 64, 67, 0.3), 0px 1px 3px 1px rgba(60, 64, 67, 0.15);\n",
              "      fill: #174EA6;\n",
              "    }\n",
              "\n",
              "    [theme=dark] .colab-df-convert {\n",
              "      background-color: #3B4455;\n",
              "      fill: #D2E3FC;\n",
              "    }\n",
              "\n",
              "    [theme=dark] .colab-df-convert:hover {\n",
              "      background-color: #434B5C;\n",
              "      box-shadow: 0px 1px 3px 1px rgba(0, 0, 0, 0.15);\n",
              "      filter: drop-shadow(0px 1px 2px rgba(0, 0, 0, 0.3));\n",
              "      fill: #FFFFFF;\n",
              "    }\n",
              "  </style>\n",
              "\n",
              "      <script>\n",
              "        const buttonEl =\n",
              "          document.querySelector('#df-7d510c15-5f53-4a18-af18-ff2344432dc9 button.colab-df-convert');\n",
              "        buttonEl.style.display =\n",
              "          google.colab.kernel.accessAllowed ? 'block' : 'none';\n",
              "\n",
              "        async function convertToInteractive(key) {\n",
              "          const element = document.querySelector('#df-7d510c15-5f53-4a18-af18-ff2344432dc9');\n",
              "          const dataTable =\n",
              "            await google.colab.kernel.invokeFunction('convertToInteractive',\n",
              "                                                     [key], {});\n",
              "          if (!dataTable) return;\n",
              "\n",
              "          const docLinkHtml = 'Like what you see? Visit the ' +\n",
              "            '<a target=\"_blank\" href=https://colab.research.google.com/notebooks/data_table.ipynb>data table notebook</a>'\n",
              "            + ' to learn more about interactive tables.';\n",
              "          element.innerHTML = '';\n",
              "          dataTable['output_type'] = 'display_data';\n",
              "          await google.colab.output.renderOutput(dataTable, element);\n",
              "          const docLink = document.createElement('div');\n",
              "          docLink.innerHTML = docLinkHtml;\n",
              "          element.appendChild(docLink);\n",
              "        }\n",
              "      </script>\n",
              "    </div>\n",
              "  </div>\n",
              "  "
            ],
            "text/plain": [
              "   fixed acidity  volatile acidity  citric acid  ...  sulphates  alcohol  quality\n",
              "0            7.4              0.70         0.00  ...       0.56      9.4      bad\n",
              "1            7.8              0.88         0.00  ...       0.68      9.8      bad\n",
              "2            7.8              0.76         0.04  ...       0.65      9.8      bad\n",
              "3           11.2              0.28         0.56  ...       0.58      9.8      bad\n",
              "4            7.4              0.70         0.00  ...       0.56      9.4      bad\n",
              "\n",
              "[5 rows x 12 columns]"
            ]
          },
          "metadata": {},
          "execution_count": 45
        }
      ]
    },
    {
      "cell_type": "code",
      "execution_count": 46,
      "metadata": {
        "_cell_guid": "21a15507-cc97-4c40-835b-51fd79f7cdd9",
        "_uuid": "87127b3c5e9493a9364b3c63401ddb11a51373a1",
        "collapsed": true,
        "id": "TdDX0NiFI2BA"
      },
      "outputs": [],
      "source": [
        "#Now, using the LabelEncoder, the transformation of the wine's qualities is carried out\n",
        "label_quality = LabelEncoder()\n",
        "wine_data['quality'] = label_quality.fit_transform(wine_data['quality'])"
      ]
    },
    {
      "cell_type": "code",
      "execution_count": 47,
      "metadata": {
        "_cell_guid": "f4c3a886-4b1f-4533-a660-b7ffb66376c2",
        "_uuid": "a592e2b8ece55e8d5928241eb5b9188226a725bf",
        "collapsed": true,
        "colab": {
          "base_uri": "https://localhost:8080/"
        },
        "id": "ZuS1j2PDI2BA",
        "outputId": "1f9758de-b843-4708-dccb-ae879b7df59e"
      },
      "outputs": [
        {
          "output_type": "execute_result",
          "data": {
            "text/plain": [
              "0    1382\n",
              "1     217\n",
              "Name: quality, dtype: int64"
            ]
          },
          "metadata": {},
          "execution_count": 47
        }
      ],
      "source": [
        "#Good wines are 1 and bad are 0\n",
        "#Below is the count of how many examples there are in each class\n",
        "wine_data['quality'].value_counts()"
      ]
    },
    {
      "cell_type": "code",
      "execution_count": 48,
      "metadata": {
        "_cell_guid": "2fe7339e-837e-48c0-b988-a36c89632844",
        "_uuid": "d2a4c7e14dc6b8faa31efd1fcbe4f61b80a7d3e1",
        "colab": {
          "base_uri": "https://localhost:8080/",
          "height": 363
        },
        "id": "S2x-Mny7I2BC",
        "outputId": "8342b3f2-0a64-47c3-c582-944bd4d36f42"
      },
      "outputs": [
        {
          "output_type": "stream",
          "name": "stderr",
          "text": [
            "/usr/local/lib/python3.7/dist-packages/seaborn/_decorators.py:43: FutureWarning: Pass the following variable as a keyword arg: x. From version 0.12, the only valid positional argument will be `data`, and passing other arguments without an explicit keyword will result in an error or misinterpretation.\n",
            "  FutureWarning\n"
          ]
        },
        {
          "output_type": "execute_result",
          "data": {
            "text/plain": [
              "<matplotlib.axes._subplots.AxesSubplot at 0x7f1317075410>"
            ]
          },
          "metadata": {},
          "execution_count": 48
        },
        {
          "output_type": "display_data",
          "data": {
            "image/png": "[encoded data removed]",
            "text/plain": [
              "<Figure size 432x288 with 1 Axes>"
            ]
          },
          "metadata": {}
        }
      ],
      "source": [
        "sns.countplot(wine_data['quality'])"
      ]
    },
    {
      "cell_type": "code",
      "execution_count": 49,
      "metadata": {
        "_cell_guid": "ba89712a-ad66-4a92-9214-4e35c3802d59",
        "_uuid": "b893deb26bb309c914de12aadf9ad8437deb8358",
        "collapsed": true,
        "id": "351ZMSlJI2BC"
      },
      "outputs": [],
      "source": [
        "#The data is divided between input (x) and output (y) elements\n",
        "x = wine_data.drop('quality', axis = 1)\n",
        "y = wine_data['quality']"
      ]
    },
    {
      "cell_type": "code",
      "source": [
        "#Standardizing the data is important, so that each value has a similar influence\n",
        "std_scalar = StandardScaler()\n",
        "x = std_scalar.fit_transform(x)"
      ],
      "metadata": {
        "id": "sCzVakk99ttl"
      },
      "execution_count": 15,
      "outputs": []
    },
    {
      "cell_type": "code",
      "execution_count": 16,
      "metadata": {
        "_cell_guid": "d7703d9a-3397-4c42-9b38-6f341cac1cde",
        "_uuid": "bdfc0f6ba146f947f265fd493e8327366fdb5c9a",
        "collapsed": true,
        "id": "2dITcl0CI2BC"
      },
      "outputs": [],
      "source": [
        "#Now the values are divided between training and testing, applying 20% of the data for tests.\n",
        "x_train, x_test, y_train, y_test = train_test_split(x, y, test_size = 0.2, random_state = 42)"
      ]
    },
    {
      "cell_type": "markdown",
      "metadata": {
        "_cell_guid": "645e952e-09b5-48df-9d08-aa6454ef333a",
        "_uuid": "3fd28a9b12fd0f5a00bc0add378ca1f9632bc319",
        "id": "jJKlR0eoI2BE"
      },
      "source": [
        "After this processing, the training and test data are ready to be used in the modeling by the machine learning algorithms.\n",
        "\n"
      ]
    },
    {
      "cell_type": "markdown",
      "metadata": {
        "_cell_guid": "0a12868b-8780-43b9-ae70-4c849407aac6",
        "_uuid": "093572f70cda59063611c1c888974e6a863ec7ef",
        "id": "nUGFKx71I2BE"
      },
      "source": [
        "### Random Forest Classifier"
      ]
    },
    {
      "cell_type": "code",
      "execution_count": 28,
      "metadata": {
        "_cell_guid": "f7d2ca14-40fa-4b7c-b902-d47f09214c75",
        "_uuid": "4c2c2a071bde3b44adf031a6807f51b47f8b5eaa",
        "collapsed": true,
        "id": "120aYNv6I2BE"
      },
      "outputs": [],
      "source": [
        "rfc = RandomForestClassifier(n_estimators=200, random_state=1)\n",
        "rfc.fit(x_train, y_train)\n",
        "pred_rfc = rfc.predict(x_test)"
      ]
    },
    {
      "cell_type": "code",
      "execution_count": 29,
      "metadata": {
        "_cell_guid": "1cc15e56-0589-4fa3-a4f1-6f5e7b5547b2",
        "_uuid": "61e8a79a7db4fef289b8d4e3b3dd8e1c01756697",
        "colab": {
          "base_uri": "https://localhost:8080/"
        },
        "id": "3IeZaoSdI2BE",
        "outputId": "c3ebd622-1363-4419-a456-0fbae9a1a4f3"
      },
      "outputs": [
        {
          "output_type": "stream",
          "name": "stdout",
          "text": [
            "              precision    recall  f1-score   support\n",
            "\n",
            "           0       0.92      0.97      0.95       273\n",
            "           1       0.76      0.53      0.62        47\n",
            "\n",
            "    accuracy                           0.91       320\n",
            "   macro avg       0.84      0.75      0.79       320\n",
            "weighted avg       0.90      0.91      0.90       320\n",
            "\n"
          ]
        }
      ],
      "source": [
        "#Now view the level of results\n",
        "print(classification_report(y_test, pred_rfc))"
      ]
    },
    {
      "cell_type": "code",
      "execution_count": 30,
      "metadata": {
        "_cell_guid": "84334dbd-d36c-4650-87ab-d3e8f73be63c",
        "_uuid": "0fd8c7cd7741be25fd0d5f56d5711e8aaf44ac0f",
        "colab": {
          "base_uri": "https://localhost:8080/"
        },
        "id": "LRmW_DTxI2BF",
        "outputId": "aeb8c979-bf08-4a5b-ba14-7352b91df694"
      },
      "outputs": [
        {
          "output_type": "stream",
          "name": "stdout",
          "text": [
            "[[265   8]\n",
            " [ 22  25]]\n"
          ]
        }
      ],
      "source": [
        "#Confusion matrix for the random forest classification\n",
        "print(confusion_matrix(y_test, pred_rfc))"
      ]
    },
    {
      "cell_type": "code",
      "source": [
        "rfc.score(x_test, y_test)"
      ],
      "metadata": {
        "colab": {
          "base_uri": "https://localhost:8080/"
        },
        "id": "kzDqSTGy5ueO",
        "outputId": "065865b4-c807-4484-ed50-8ea9faef12ad"
      },
      "execution_count": 31,
      "outputs": [
        {
          "output_type": "execute_result",
          "data": {
            "text/plain": [
              "0.90625"
            ]
          },
          "metadata": {},
          "execution_count": 31
        }
      ]
    },
    {
      "cell_type": "markdown",
      "metadata": {
        "_cell_guid": "cb7432d3-16a5-4764-b792-def2666dffbe",
        "_uuid": "6bb4d5afc35743acfd4630d12038c29f2459ce39",
        "id": "McoGjQcyI2BF"
      },
      "source": [
        "\n",
        "\n",
        "## Stochastic Gradient Decent Classifier"
      ]
    },
    {
      "cell_type": "code",
      "execution_count": 83,
      "metadata": {
        "_cell_guid": "d6835aea-7d7c-4602-b3f3-11e26a37f816",
        "_uuid": "2e1bc3b870d29573b09f1c590ee18011e29af7c3",
        "id": "o5Vhdjp-I2BG"
      },
      "outputs": [],
      "source": [
        "sgd = SGDClassifier(penalty=None)\n",
        "sgd.fit(x_train, y_train)\n",
        "pred_sgd = sgd.predict(x_test)"
      ]
    },
    {
      "cell_type": "code",
      "execution_count": 84,
      "metadata": {
        "_cell_guid": "ff591dec-adf0-422a-85f6-97c1a27b62f6",
        "_uuid": "c5bdce42ff74ac8c4b6d3eb5b40107b301eec037",
        "colab": {
          "base_uri": "https://localhost:8080/"
        },
        "id": "uwLLQMrnI2BG",
        "outputId": "bc171609-cc43-43c4-d326-b32470056f3e"
      },
      "outputs": [
        {
          "output_type": "stream",
          "name": "stdout",
          "text": [
            "              precision    recall  f1-score   support\n",
            "\n",
            "           0       0.88      0.95      0.91       273\n",
            "           1       0.42      0.21      0.28        47\n",
            "\n",
            "    accuracy                           0.84       320\n",
            "   macro avg       0.65      0.58      0.60       320\n",
            "weighted avg       0.81      0.84      0.82       320\n",
            "\n"
          ]
        }
      ],
      "source": [
        "print(classification_report(y_test, pred_sgd))"
      ]
    },
    {
      "cell_type": "code",
      "execution_count": 85,
      "metadata": {
        "_cell_guid": "2f2ff080-986a-4a64-8f74-8a3afd4e494f",
        "_uuid": "593afdb03d06d44529cba0d8348aced10f1cd276",
        "colab": {
          "base_uri": "https://localhost:8080/"
        },
        "id": "Yyx5yjTwI2BI",
        "outputId": "a6c8abf8-0dec-4bec-f1c3-2c94c7f24a21"
      },
      "outputs": [
        {
          "output_type": "stream",
          "name": "stdout",
          "text": [
            "[[259  14]\n",
            " [ 37  10]]\n"
          ]
        }
      ],
      "source": [
        "print(confusion_matrix(y_test, pred_sgd))"
      ]
    },
    {
      "cell_type": "code",
      "source": [
        "sgd.score(x_test, y_test)"
      ],
      "metadata": {
        "colab": {
          "base_uri": "https://localhost:8080/"
        },
        "id": "QBRjzFPA-tV2",
        "outputId": "b5883ba0-6cbc-482f-aa62-f8834428f5d4"
      },
      "execution_count": 86,
      "outputs": [
        {
          "output_type": "execute_result",
          "data": {
            "text/plain": [
              "0.840625"
            ]
          },
          "metadata": {},
          "execution_count": 86
        }
      ]
    },
    {
      "cell_type": "markdown",
      "metadata": {
        "_cell_guid": "eda98e5a-552d-4318-8ae7-1fc45c360be4",
        "_uuid": "9ec5e14c6c24713d6b6e0aaa76ddc5d45886c626",
        "id": "2Aa9PF52I2BJ"
      },
      "source": [
        "## Support Vector Classifier"
      ]
    },
    {
      "cell_type": "code",
      "execution_count": 87,
      "metadata": {
        "_cell_guid": "c09c2885-0ae7-424b-8bfb-8d60eeab8910",
        "_uuid": "432c960068fac4d27d9be14a39ac0fe92933f532",
        "collapsed": true,
        "id": "q73ZkNBwI2BJ"
      },
      "outputs": [],
      "source": [
        "svc = SVC()\n",
        "svc.fit(x_train, y_train)\n",
        "pred_svc = svc.predict(x_test)"
      ]
    },
    {
      "cell_type": "code",
      "execution_count": 88,
      "metadata": {
        "_cell_guid": "a9bd5ed8-fed7-4d12-8f84-ee02b345f7f3",
        "_uuid": "bc3c13a5596baf43c4c40dbddea247e3ee470d31",
        "colab": {
          "base_uri": "https://localhost:8080/"
        },
        "id": "EBZCn1ckI2BK",
        "outputId": "a951293d-3669-41e5-cb77-8d5eef7e5134"
      },
      "outputs": [
        {
          "output_type": "stream",
          "name": "stdout",
          "text": [
            "              precision    recall  f1-score   support\n",
            "\n",
            "           0       0.88      0.98      0.93       273\n",
            "           1       0.71      0.26      0.37        47\n",
            "\n",
            "    accuracy                           0.88       320\n",
            "   macro avg       0.80      0.62      0.65       320\n",
            "weighted avg       0.86      0.88      0.85       320\n",
            "\n"
          ]
        }
      ],
      "source": [
        "print(classification_report(y_test, pred_svc))"
      ]
    },
    {
      "cell_type": "code",
      "source": [
        "print(confusion_matrix(y_test, pred_svc))"
      ],
      "metadata": {
        "colab": {
          "base_uri": "https://localhost:8080/"
        },
        "id": "XqeIK--VjnIm",
        "outputId": "52c1c7e2-d423-40f6-9823-e9f2c9b9d634"
      },
      "execution_count": 89,
      "outputs": [
        {
          "output_type": "stream",
          "name": "stdout",
          "text": [
            "[[268   5]\n",
            " [ 35  12]]\n"
          ]
        }
      ]
    },
    {
      "cell_type": "code",
      "source": [
        "svc.score(x_test, y_test)"
      ],
      "metadata": {
        "colab": {
          "base_uri": "https://localhost:8080/"
        },
        "id": "EkDwBPe--085",
        "outputId": "12fea30b-6977-4d67-a163-2e22974126a3"
      },
      "execution_count": 90,
      "outputs": [
        {
          "output_type": "execute_result",
          "data": {
            "text/plain": [
              "0.875"
            ]
          },
          "metadata": {},
          "execution_count": 90
        }
      ]
    },
    {
      "cell_type": "markdown",
      "metadata": {
        "_cell_guid": "ea15f1a9-eec6-4d08-a68d-8e3fce6f6b8a",
        "_uuid": "b11f94fdee6a4bfed980793d94ad5c17e33b7d39",
        "id": "JSAQcmyqI2BK"
      },
      "source": [
        "## Let's try to increase our accuracy of models\n",
        "## Grid Search CV"
      ]
    },
    {
      "cell_type": "code",
      "execution_count": 91,
      "metadata": {
        "_cell_guid": "31bbdf11-00b0-4120-81f6-b7b5ac537554",
        "_uuid": "0d8fb2a1ae6909c8e44d4b51af8492c194016e4c",
        "collapsed": true,
        "id": "-WJ3uANuI2BL"
      },
      "outputs": [],
      "source": [
        "#Finding best parameters for the SVC model\n",
        "param = {\n",
        "    'n_estimators': [(100), (10), (500)],\n",
        "    'criterion':['gini', 'entropy'],\n",
        "    'gamma' :[0.9,1,1.1,1.2]\n",
        "}\n",
        "\n",
        "grid_svc = GridSearchCV(svc, param_grid=param, scoring='accuracy', cv=5)"
      ]
    },
    {
      "cell_type": "code",
      "execution_count": 92,
      "metadata": {
        "_cell_guid": "32cbf4d6-254c-4c55-93e2-448244d89ad9",
        "_uuid": "a581f788a26862911480af8e9c2acb4385d6d79d",
        "colab": {
          "base_uri": "https://localhost:8080/"
        },
        "id": "Ix6poHJRI2BL",
        "outputId": "98341d70-3c07-4e1e-dc6a-10e13fdcc2bb"
      },
      "outputs": [
        {
          "output_type": "execute_result",
          "data": {
            "text/plain": [
              "GridSearchCV(cv=5, estimator=SVC(),\n",
              "             param_grid={'C': [0.9, 1, 1.1, 1.2], 'gamma': [0.9, 1, 1.1, 1.2],\n",
              "                         'kernel': ['rbf', 'sigmoid', 'poly']},\n",
              "             scoring='accuracy')"
            ]
          },
          "metadata": {},
          "execution_count": 92
        }
      ],
      "source": [
        "grid_svc.fit(x_train, y_train)"
      ]
    },
    {
      "cell_type": "code",
      "source": [
        "df = pd.DataFrame(grid_svc.cv_results_)\n",
        "df"
      ],
      "metadata": {
        "id": "z8-aBuH15OBw"
      },
      "execution_count": null,
      "outputs": []
    },
    {
      "cell_type": "code",
      "execution_count": 94,
      "metadata": {
        "_cell_guid": "55a3e439-c2e3-426e-a1a5-cd653bf8bfa9",
        "_uuid": "0d70efd0eb41271afb4ac50291aa83c6791847a3",
        "colab": {
          "base_uri": "https://localhost:8080/"
        },
        "id": "djpAjpQRI2BL",
        "outputId": "9b749fa8-3114-49a1-eb9c-28ebfc287710"
      },
      "outputs": [
        {
          "output_type": "execute_result",
          "data": {
            "text/plain": [
              "{'C': 1.2, 'gamma': 1, 'kernel': 'rbf'}"
            ]
          },
          "metadata": {},
          "execution_count": 94
        }
      ],
      "source": [
        "#Best parameters for our svc model\n",
        "grid_svc.best_params_"
      ]
    },
    {
      "cell_type": "code",
      "execution_count": 95,
      "metadata": {
        "_cell_guid": "362ff8bd-7cf3-48af-a93a-499b52dab0d7",
        "_uuid": "dd4a0ac5ef6c17e9e2312a03df0d82ca088c40f2",
        "colab": {
          "base_uri": "https://localhost:8080/"
        },
        "id": "AQkg5-fYI2BM",
        "outputId": "bff2d48b-9bc5-45a2-85bc-24a563c54670"
      },
      "outputs": [
        {
          "output_type": "stream",
          "name": "stdout",
          "text": [
            "              precision    recall  f1-score   support\n",
            "\n",
            "           0       0.90      0.99      0.94       273\n",
            "           1       0.89      0.36      0.52        47\n",
            "\n",
            "    accuracy                           0.90       320\n",
            "   macro avg       0.90      0.68      0.73       320\n",
            "weighted avg       0.90      0.90      0.88       320\n",
            "\n"
          ]
        }
      ],
      "source": [
        "#Let's run our SVC again with the best parameters.\n",
        "svc2 = SVC(C = 1.2, gamma =  1.0, kernel= 'rbf')\n",
        "svc2.fit(x_train, y_train)\n",
        "pred_svc2 = svc2.predict(x_test)\n",
        "print(classification_report(y_test, pred_svc2))"
      ]
    },
    {
      "cell_type": "code",
      "source": [
        "print(confusion_matrix(y_test, pred_svc2))"
      ],
      "metadata": {
        "colab": {
          "base_uri": "https://localhost:8080/"
        },
        "id": "_NL_8BUwlzVx",
        "outputId": "470208ba-4ce0-45c3-9c81-627b859dcf88"
      },
      "execution_count": 96,
      "outputs": [
        {
          "output_type": "stream",
          "name": "stdout",
          "text": [
            "[[271   2]\n",
            " [ 30  17]]\n"
          ]
        }
      ]
    },
    {
      "cell_type": "code",
      "source": [
        "svc2.score(x_test, y_test)"
      ],
      "metadata": {
        "colab": {
          "base_uri": "https://localhost:8080/"
        },
        "id": "3Fbbk7nx5lDO",
        "outputId": "68b6c1ff-8519-4eba-a12f-08323c7fcb25"
      },
      "execution_count": 97,
      "outputs": [
        {
          "output_type": "execute_result",
          "data": {
            "text/plain": [
              "0.9"
            ]
          },
          "metadata": {},
          "execution_count": 97
        }
      ]
    },
    {
      "cell_type": "code",
      "source": [
        "#The result of the SVC was not better than the RFC, so it is possible to try to improve the RFC\n",
        "from sklearn.model_selection import RandomizedSearchCV\n",
        "import numpy as np\n",
        "\n",
        "rf = RandomForestClassifier(random_state = 35)"
      ],
      "metadata": {
        "id": "pQhBFxY-ABQj"
      },
      "execution_count": 17,
      "outputs": []
    },
    {
      "cell_type": "code",
      "source": [
        "n_estimators = [int(x) for x in np.linspace(start = 1, stop = 20, num = 20)]\n",
        "max_features = ['auto', 'sqrt']\n",
        "max_depth = [int(x) for x in np.linspace(10, 120, num = 12)]\n",
        "min_samples_split = [2, 6, 10]\n",
        "min_samples_leaf = [1, 3, 4]\n",
        "bootstrap = [True, False]"
      ],
      "metadata": {
        "id": "jZj5qXREHfrB"
      },
      "execution_count": 18,
      "outputs": []
    },
    {
      "cell_type": "code",
      "source": [
        "random_grid = {'n_estimators': n_estimators, \n",
        "               'max_features': max_features,\n",
        "               'max_depth': max_depth,\n",
        "               'min_samples_split': min_samples_split,\n",
        "               'min_samples_leaf': min_samples_leaf,\n",
        "               'bootstrap': bootstrap}\n",
        "\n",
        "rf_random = RandomizedSearchCV(estimator = rf,\n",
        "                               param_distributions = random_grid,\n",
        "                               n_iter = 100, cv = 5, verbose=2, random_state=35, n_jobs = -1)\n",
        "\n",
        "rf_random.fit(x_train,y_train)\n",
        "\n",
        "# this prints the contents of the parameters in the random grid\n",
        "print ('Random grid: ', random_grid, '\\n')\n",
        "\n",
        "# print the best parameters\n",
        "print ('Best Parameters: ', rf_random.best_params_, ' \\n')"
      ],
      "metadata": {
        "colab": {
          "base_uri": "https://localhost:8080/"
        },
        "id": "XhSDnXHqHtLB",
        "outputId": "330ef8f3-db9c-4eab-b983-19d92e160ff6"
      },
      "execution_count": 19,
      "outputs": [
        {
          "output_type": "stream",
          "name": "stdout",
          "text": [
            "Fitting 5 folds for each of 100 candidates, totalling 500 fits\n",
            "Random grid:  {'n_estimators': [1, 2, 3, 4, 5, 6, 7, 8, 9, 10, 11, 12, 13, 14, 15, 16, 17, 18, 19, 20], 'max_features': ['auto', 'sqrt'], 'max_depth': [10, 20, 30, 40, 50, 60, 70, 80, 90, 100, 110, 120], 'min_samples_split': [2, 6, 10], 'min_samples_leaf': [1, 3, 4], 'bootstrap': [True, False]} \n",
            "\n",
            "Best Parameters:  {'n_estimators': 11, 'min_samples_split': 6, 'min_samples_leaf': 3, 'max_features': 'auto', 'max_depth': 90, 'bootstrap': False}  \n",
            "\n"
          ]
        }
      ]
    },
    {
      "cell_type": "code",
      "source": [
        "rf = RandomForestClassifier(n_estimators=11, bootstrap=False, \n",
        "                               max_depth=90, max_features='auto', min_samples_leaf=3, \n",
        "                               min_samples_split=6, random_state=1)"
      ],
      "metadata": {
        "id": "K57m10tECXNP"
      },
      "execution_count": 20,
      "outputs": []
    },
    {
      "cell_type": "code",
      "source": [
        "rf.fit(x_train, y_train)\n",
        "pred_rf = rf.predict(x_test)"
      ],
      "metadata": {
        "id": "UqSUA-b9CrCB"
      },
      "execution_count": 24,
      "outputs": []
    },
    {
      "cell_type": "code",
      "source": [
        "print(classification_report(y_test, pred_rf))"
      ],
      "metadata": {
        "colab": {
          "base_uri": "https://localhost:8080/"
        },
        "id": "0QQwrRpJJWeS",
        "outputId": "f2b49585-6d4c-4bc9-d64b-bc0a7f00e1df"
      },
      "execution_count": 25,
      "outputs": [
        {
          "output_type": "stream",
          "name": "stdout",
          "text": [
            "              precision    recall  f1-score   support\n",
            "\n",
            "           0       0.93      0.95      0.94       273\n",
            "           1       0.67      0.55      0.60        47\n",
            "\n",
            "    accuracy                           0.89       320\n",
            "   macro avg       0.80      0.75      0.77       320\n",
            "weighted avg       0.89      0.89      0.89       320\n",
            "\n"
          ]
        }
      ]
    },
    {
      "cell_type": "code",
      "source": [
        "print(confusion_matrix(y_test, pred_rf))"
      ],
      "metadata": {
        "colab": {
          "base_uri": "https://localhost:8080/"
        },
        "id": "RCRgdOQfJX7C",
        "outputId": "8b3ec3d4-072d-440b-8c48-aa2e39c1be9c"
      },
      "execution_count": 26,
      "outputs": [
        {
          "output_type": "stream",
          "name": "stdout",
          "text": [
            "[[260  13]\n",
            " [ 21  26]]\n"
          ]
        }
      ]
    },
    {
      "cell_type": "code",
      "source": [
        "rf.score(x_test, y_test)"
      ],
      "metadata": {
        "colab": {
          "base_uri": "https://localhost:8080/"
        },
        "id": "bRY1kDk4JZLm",
        "outputId": "07ac8207-d197-47c8-a838-b9af0afe3bb1"
      },
      "execution_count": 27,
      "outputs": [
        {
          "output_type": "execute_result",
          "data": {
            "text/plain": [
              "0.89375"
            ]
          },
          "metadata": {},
          "execution_count": 27
        }
      ]
    },
    {
      "cell_type": "markdown",
      "source": [
        "In short, the best performance was Randon Forest, even without optimization. But in general, all the results are statistically similar, with excellent accuracy, showing that with simple models it is possible to create a predictive machine with approximately 90% accuracy to analyze the quality of wines from physical-chemical information."
      ],
      "metadata": {
        "id": "gmoovhrGJoMk"
      }
    }
  ],
  "metadata": {
    "kernelspec": {
      "display_name": "Python 3",
      "language": "python",
      "name": "python3"
    },
    "language_info": {
      "codemirror_mode": {
        "name": "ipython",
        "version": 3
      },
      "file_extension": ".py",
      "mimetype": "text/x-python",
      "name": "python",
      "nbconvert_exporter": "python",
      "pygments_lexer": "ipython3",
      "version": "3.6.4"
    },
    "colab": {
      "name": "prediction-of-quality-of-wine.ipynb",
      "provenance": [],
      "include_colab_link": true
    },
    "accelerator": "GPU"
  },
  "nbformat": 4,
  "nbformat_minor": 0
}